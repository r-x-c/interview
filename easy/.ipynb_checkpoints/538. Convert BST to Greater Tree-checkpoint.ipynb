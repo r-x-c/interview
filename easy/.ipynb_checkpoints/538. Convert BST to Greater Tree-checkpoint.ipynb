{
 "cells": [
  {
   "cell_type": "code",
   "execution_count": 1,
   "metadata": {
    "collapsed": true
   },
   "outputs": [],
   "source": [
    "class TreeNode(object):\n",
    "    def __init__(self, x):\n",
    "        self.val = x\n",
    "        self.left = None\n",
    "        self.right = None"
   ]
  },
  {
   "cell_type": "code",
   "execution_count": 2,
   "metadata": {
    "collapsed": true
   },
   "outputs": [],
   "source": [
    "def printInOrder(node):\n",
    "    if node == None:\n",
    "        return\n",
    "    #left\n",
    "    printInOrder(node.left)\n",
    "    #center\n",
    "    print(node.val)\n",
    "    #right\n",
    "    printInOrder(node.right)"
   ]
  },
  {
   "cell_type": "code",
   "execution_count": 3,
   "metadata": {
    "collapsed": true
   },
   "outputs": [],
   "source": [
    "def treeEqual(t1, t2):\n",
    "    if t1 is None and t2 is None:\n",
    "        return True\n",
    "    if t1 is None or t2 is None:\n",
    "        return False\n",
    "    if t1.val != t2.val:\n",
    "        return False\n",
    "    return treeEqual(t1.left, t2.left) and treeEqual(t1.right, t2.right)"
   ]
  },
  {
   "cell_type": "code",
   "execution_count": 4,
   "metadata": {
    "collapsed": true
   },
   "outputs": [],
   "source": [
    "t1 = TreeNode(1)\n",
    "a = TreeNode(3)\n",
    "b = TreeNode(2)\n",
    "t1.left = a\n",
    "t1.right = b\n",
    "c = TreeNode(5)\n",
    "a.left = c\n",
    "\n",
    "t2 = TreeNode(2)\n",
    "x = TreeNode(1)\n",
    "y = TreeNode(3)\n",
    "t2.left = x\n",
    "t2.right = y\n",
    "z = TreeNode(4)\n",
    "x.right = z\n",
    "q = TreeNode(7)\n",
    "y.right = q\n",
    "\n",
    "tS = TreeNode(3)\n",
    "s1 = TreeNode(4)\n",
    "s2 = TreeNode(5)\n",
    "tS.left = s1\n",
    "tS.right = s2\n",
    "s3 = TreeNode(5)\n",
    "s4 = TreeNode(4)\n",
    "s1.left = s3\n",
    "s1.right = s4\n",
    "s5 = TreeNode(7)\n",
    "s2.right = s5"
   ]
  },
  {
   "cell_type": "code",
   "execution_count": 7,
   "metadata": {
    "collapsed": true
   },
   "outputs": [],
   "source": [
    "# Definition for a binary tree node.\n",
    "# class TreeNode(object):\n",
    "#     def __init__(self, x):\n",
    "#         self.val = x\n",
    "#         self.left = None\n",
    "#         self.right = None\n",
    "\n",
    "class Solution(object):\n",
    "    def convertBST(self, root):\n",
    "        \"\"\"\n",
    "        :type root: TreeNode\n",
    "        :rtype: TreeNode\n",
    "        \"\"\"\n",
    "    "
   ]
  },
  {
   "cell_type": "code",
   "execution_count": 14,
   "metadata": {},
   "outputs": [],
   "source": [
    "inp = TreeNode(5)\n",
    "inpL = TreeNode(2)\n",
    "inpR = TreeNode(13)\n",
    "inp.left = inpL\n",
    "inp.right = inpR\n",
    "\n",
    "sol = Solution()\n",
    "ans = sol.convertBST(inp)\n",
    "printInOrder(ans)"
   ]
  },
  {
   "cell_type": "code",
   "execution_count": 26,
   "metadata": {},
   "outputs": [
    {
     "name": "stdout",
     "output_type": "stream",
     "text": [
      "[2, 5, 13]\n"
     ]
    },
    {
     "ename": "NameError",
     "evalue": "name 'reduce' is not defined",
     "output_type": "error",
     "traceback": [
      "\u001b[0;31m---------------------------------------------------------------------------\u001b[0m",
      "\u001b[0;31mNameError\u001b[0m                                 Traceback (most recent call last)",
      "\u001b[0;32m<ipython-input-26-fdedefee715c>\u001b[0m in \u001b[0;36m<module>\u001b[0;34m()\u001b[0m\n\u001b[1;32m     11\u001b[0m \u001b[0;34m\u001b[0m\u001b[0m\n\u001b[1;32m     12\u001b[0m \u001b[0mfoo\u001b[0m\u001b[0;34m.\u001b[0m\u001b[0mindex\u001b[0m\u001b[0;34m(\u001b[0m\u001b[0;36m5\u001b[0m\u001b[0;34m)\u001b[0m\u001b[0;34m\u001b[0m\u001b[0m\n\u001b[0;32m---> 13\u001b[0;31m \u001b[0mreduce\u001b[0m\u001b[0;34m(\u001b[0m \u001b[0;34m(\u001b[0m\u001b[0;32mlambda\u001b[0m \u001b[0mx\u001b[0m\u001b[0;34m,\u001b[0m \u001b[0my\u001b[0m\u001b[0;34m:\u001b[0m \u001b[0mx\u001b[0m \u001b[0;34m+\u001b[0m \u001b[0my\u001b[0m\u001b[0;34m)\u001b[0m\u001b[0;34m,\u001b[0m \u001b[0mfoo\u001b[0m \u001b[0;34m)\u001b[0m\u001b[0;34m\u001b[0m\u001b[0m\n\u001b[0m",
      "\u001b[0;31mNameError\u001b[0m: name 'reduce' is not defined"
     ]
    }
   ],
   "source": [
    "from functools import reduce\n",
    "l1 = []\n",
    "\n",
    "def listifyTree(node):\n",
    "    if node is None:\n",
    "        return []\n",
    "    return [node.val] + listifyTree(node.left) + listifyTree(node.right)\n",
    "\n",
    "foo = listifyTree(inp)\n",
    "foo.sort()\n",
    "print(foo)\n",
    "\n",
    "foo.index(5)\n",
    "reduce( (lambda x, y: x + y), foo )\n"
   ]
  },
  {
   "cell_type": "code",
   "execution_count": 22,
   "metadata": {},
   "outputs": [
    {
     "name": "stdout",
     "output_type": "stream",
     "text": [
      "[2, 3, 1]\n"
     ]
    }
   ],
   "source": [
    "l3 = [2,3]\n",
    "l3 += [1]\n",
    "print(l3)"
   ]
  },
  {
   "cell_type": "code",
   "execution_count": null,
   "metadata": {
    "collapsed": true
   },
   "outputs": [],
   "source": []
  }
 ],
 "metadata": {
  "kernelspec": {
   "display_name": "Python 3",
   "language": "python",
   "name": "python3"
  },
  "language_info": {
   "codemirror_mode": {
    "name": "ipython",
    "version": 3
   },
   "file_extension": ".py",
   "mimetype": "text/x-python",
   "name": "python",
   "nbconvert_exporter": "python",
   "pygments_lexer": "ipython3",
   "version": "3.6.1"
  }
 },
 "nbformat": 4,
 "nbformat_minor": 2
}
