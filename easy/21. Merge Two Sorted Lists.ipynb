{
 "cells": [
  {
   "cell_type": "code",
   "execution_count": 26,
   "metadata": {},
   "outputs": [
    {
     "name": "stdout",
     "output_type": "stream",
     "text": [
      "1\n",
      "5\n"
     ]
    }
   ],
   "source": [
    "# Definition for singly-linked list.\n",
    "class ListNode(object):\n",
    "    def __init__(self, x):\n",
    "        self.val = x\n",
    "        self.next = None\n",
    "        \n",
    "# set up test data\n",
    "a = ListNode(1)\n",
    "b = ListNode(2)\n",
    "c = ListNode(4)\n",
    "d = ListNode(5)\n",
    "a.next = b\n",
    "b.next = c\n",
    "c.next = d\n",
    "\n",
    "x = ListNode(3)\n",
    "y = ListNode(6)\n",
    "z = ListNode(9)\n",
    "\n",
    "x.next = y\n",
    "y.next = z\n",
    "\n"
   ]
  },
  {
   "cell_type": "code",
   "execution_count": 34,
   "metadata": {},
   "outputs": [
    {
     "name": "stdout",
     "output_type": "stream",
     "text": [
      "1\n",
      "2\n",
      "3\n",
      "4\n",
      "5\n",
      "6\n",
      "9\n"
     ]
    }
   ],
   "source": [
    "class Solution(object):\n",
    "    def mergeTwoLists(self, l1, l2):\n",
    "        \"\"\"\n",
    "        :type l1: ListNode\n",
    "        :type l2: ListNode\n",
    "        :rtype: ListNode\n",
    "        \"\"\"\n",
    "        # init head\n",
    "        head = ListNode(0)\n",
    "        if l1.val < l2.val:\n",
    "            head.val = l1.val\n",
    "            l1 = l1.next\n",
    "        else:\n",
    "            head.val = l2.val\n",
    "            l2 = l2.next\n",
    "            \n",
    "        # process rest of bodies\n",
    "        ptr = head\n",
    "        while l1 and l2:\n",
    "            if l1.val < l2.val:\n",
    "                _ = ListNode(l1.val)\n",
    "                l1 = l1.next\n",
    "                ptr.next = _\n",
    "                ptr = _\n",
    "            else:\n",
    "                _ = ListNode(l2.val)\n",
    "                l2 = l2.next\n",
    "                ptr.next = _\n",
    "                ptr = _\n",
    "                \n",
    "        if l1:\n",
    "            ptr.next = l1\n",
    "        else:\n",
    "            ptr.next = l2\n",
    "        return head\n",
    "\n",
    "sol = Solution()\n",
    "foo = sol.mergeTwoLists(a, x)\n",
    "while foo:\n",
    "    print(foo.val)\n",
    "    foo = foo.next"
   ]
  },
  {
   "cell_type": "code",
   "execution_count": null,
   "metadata": {
    "collapsed": true
   },
   "outputs": [],
   "source": []
  }
 ],
 "metadata": {
  "kernelspec": {
   "display_name": "Python 3",
   "language": "python",
   "name": "python3"
  },
  "language_info": {
   "codemirror_mode": {
    "name": "ipython",
    "version": 3
   },
   "file_extension": ".py",
   "mimetype": "text/x-python",
   "name": "python",
   "nbconvert_exporter": "python",
   "pygments_lexer": "ipython3",
   "version": "3.6.1"
  }
 },
 "nbformat": 4,
 "nbformat_minor": 2
}
