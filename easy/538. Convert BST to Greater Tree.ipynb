{
 "cells": [
  {
   "cell_type": "code",
   "execution_count": 1,
   "metadata": {
    "collapsed": true
   },
   "outputs": [],
   "source": [
    "class TreeNode(object):\n",
    "    def __init__(self, x):\n",
    "        self.val = x\n",
    "        self.left = None\n",
    "        self.right = None"
   ]
  },
  {
   "cell_type": "code",
   "execution_count": 2,
   "metadata": {
    "collapsed": true
   },
   "outputs": [],
   "source": [
    "def printInOrder(node):\n",
    "    if node == None:\n",
    "        return\n",
    "    #left\n",
    "    printInOrder(node.left)\n",
    "    #center\n",
    "    print(node.val)\n",
    "    #right\n",
    "    printInOrder(node.right)"
   ]
  },
  {
   "cell_type": "code",
   "execution_count": 3,
   "metadata": {
    "collapsed": true
   },
   "outputs": [],
   "source": [
    "def treeEqual(t1, t2):\n",
    "    if t1 is None and t2 is None:\n",
    "        return True\n",
    "    if t1 is None or t2 is None:\n",
    "        return False\n",
    "    if t1.val != t2.val:\n",
    "        return False\n",
    "    return treeEqual(t1.left, t2.left) and treeEqual(t1.right, t2.right)"
   ]
  },
  {
   "cell_type": "code",
   "execution_count": 45,
   "metadata": {
    "collapsed": true
   },
   "outputs": [],
   "source": [
    "t1 = TreeNode(1)\n",
    "a = TreeNode(3)\n",
    "b = TreeNode(2)\n",
    "t1.left = a\n",
    "t1.right = b\n",
    "c = TreeNode(5)\n",
    "a.left = c\n",
    "\n",
    "t2 = TreeNode(2)\n",
    "x = TreeNode(1)\n",
    "y = TreeNode(3)\n",
    "t2.left = x\n",
    "t2.right = y\n",
    "z = TreeNode(4)\n",
    "x.right = z\n",
    "q = TreeNode(7)\n",
    "y.right = q\n",
    "\n",
    "tS = TreeNode(3)\n",
    "s1 = TreeNode(4)\n",
    "s2 = TreeNode(5)\n",
    "tS.left = s1\n",
    "tS.right = s2\n",
    "s3 = TreeNode(5)\n",
    "s4 = TreeNode(4)\n",
    "s1.left = s3\n",
    "s1.right = s4\n",
    "s5 = TreeNode(7)\n",
    "s2.right = s5"
   ]
  },
  {
   "cell_type": "code",
   "execution_count": 43,
   "metadata": {
    "collapsed": true
   },
   "outputs": [],
   "source": [
    "# Definition for a binary tree node.\n",
    "# class TreeNode(object):\n",
    "#     def __init__(self, x):\n",
    "#         self.val = x\n",
    "#         self.left = None\n",
    "#         self.right = None\n",
    "\n",
    "class Solution(object):\n",
    "    el = []\n",
    "    def convertBST(self, root):\n",
    "        \"\"\"\n",
    "        :type root: TreeNode\n",
    "        :rtype: TreeNode\n",
    "        \"\"\"\n",
    "        self.el = self.listifyTree(root)\n",
    "        self.el.sort()\n",
    "        \n",
    "        print(self.el)\n",
    "        self.updateTree(root)\n",
    "        return root\n",
    "        \n",
    "    def updateTree(self, node):\n",
    "        if node is None:\n",
    "            return\n",
    "        node.val = reduce( (lambda x, y: x + y), self.el[self.el.index(node.val):])\n",
    "        self.updateTree(node.left)\n",
    "        self.updateTree(node.right)\n",
    "        \n",
    "    def listifyTree(self, node):\n",
    "        if node is None:\n",
    "            return []\n",
    "        return [node.val] + listifyTree(node.left) + listifyTree(node.right)\n"
   ]
  },
  {
   "cell_type": "code",
   "execution_count": 46,
   "metadata": {},
   "outputs": [
    {
     "name": "stdout",
     "output_type": "stream",
     "text": [
      "[2, 5, 13]\n",
      "20\n",
      "18\n",
      "13\n"
     ]
    }
   ],
   "source": [
    "inp = TreeNode(5)\n",
    "inpL = TreeNode(2)\n",
    "inpR = TreeNode(13)\n",
    "inp.left = inpL\n",
    "inp.right = inpR\n",
    "\n",
    "sol = Solution()\n",
    "ans = sol.convertBST(inp)\n",
    "printInOrder(ans)"
   ]
  },
  {
   "cell_type": "code",
   "execution_count": 33,
   "metadata": {},
   "outputs": [
    {
     "name": "stdout",
     "output_type": "stream",
     "text": [
      "[2, 5, 13]\n"
     ]
    },
    {
     "data": {
      "text/plain": [
       "18"
      ]
     },
     "execution_count": 33,
     "metadata": {},
     "output_type": "execute_result"
    }
   ],
   "source": [
    "from functools import reduce\n",
    "l1 = []\n",
    "\n",
    "def listifyTree(node):\n",
    "    if node is None:\n",
    "        return []\n",
    "    return [node.val] + listifyTree(node.left) + listifyTree(node.right)\n",
    "\n",
    "foo = listifyTree(inp)\n",
    "foo.sort()\n",
    "print(foo)\n",
    "\n",
    "foo.index(5)\n",
    "reduce( (lambda x, y: x + y), foo[foo.index(5):])\n"
   ]
  },
  {
   "cell_type": "code",
   "execution_count": 22,
   "metadata": {},
   "outputs": [
    {
     "name": "stdout",
     "output_type": "stream",
     "text": [
      "[2, 3, 1]\n"
     ]
    }
   ],
   "source": [
    "l3 = [2,3]\n",
    "l3 += [1]\n",
    "print(l3)"
   ]
  },
  {
   "cell_type": "code",
   "execution_count": 68,
   "metadata": {},
   "outputs": [
    {
     "name": "stdout",
     "output_type": "stream",
     "text": [
      "13  adding,  0\n",
      "5  adding,  0\n",
      "2  adding,  5\n",
      "7\n",
      "5\n",
      "13\n"
     ]
    }
   ],
   "source": [
    "# exp\n",
    "inp = TreeNode(5)\n",
    "inpL = TreeNode(2)\n",
    "inpR = TreeNode(13)\n",
    "inp.left = inpL\n",
    "inp.right = inpR\n",
    "\n",
    "cumSum = 0\n",
    "def postorder(tree, cumSum):\n",
    "    if tree != None:\n",
    "        postorder(tree.right, cumSum)\n",
    "        print(tree.val, \" adding, \", cumSum, ' val ', )\n",
    "        tree.val += cumSum\n",
    "#         print(tree.val)\n",
    "        cumSum += tree.val\n",
    "#         print(cumSum)\n",
    "        postorder(tree.left, cumSum)\n",
    "\n",
    "postorder(inp, 0)\n",
    "printInOrder(inp)"
   ]
  },
  {
   "cell_type": "code",
   "execution_count": 92,
   "metadata": {
    "collapsed": true
   },
   "outputs": [],
   "source": [
    "# Definition for a binary tree node.\n",
    "# class TreeNode(object):\n",
    "#     def __init__(self, x):\n",
    "#         self.val = x\n",
    "#         self.left = None\n",
    "#         self.right = None\n",
    "\n",
    "class Solution(object):\n",
    "    cumSum = 0\n",
    "    def convertBST(self, root):\n",
    "        \"\"\"\n",
    "        :type root: TreeNode\n",
    "        :rtype: TreeNode\n",
    "        \"\"\"\n",
    "        if root is None:\n",
    "            return\n",
    "        self.convertHelper(root)\n",
    "        return root\n",
    "        \n",
    "    def convertHelper(self, node):\n",
    "        if node != None:\n",
    "            self.convertHelper(node.right)\n",
    "            _ = node.val\n",
    "            node.val += self.cumSum\n",
    "            self.cumSum += _\n",
    "            self.convertHelper(node.left)\n"
   ]
  },
  {
   "cell_type": "code",
   "execution_count": 93,
   "metadata": {
    "scrolled": true
   },
   "outputs": [
    {
     "name": "stdout",
     "output_type": "stream",
     "text": [
      "20\n",
      "18\n",
      "13\n"
     ]
    }
   ],
   "source": [
    "inp = TreeNode(5)\n",
    "inpL = TreeNode(2)\n",
    "inpR = TreeNode(13)\n",
    "inp.left = inpL\n",
    "inp.right = inpR\n",
    "\n",
    "sol = Solution()\n",
    "ans = sol.convertBST(inp)\n",
    "printInOrder(ans)"
   ]
  },
  {
   "cell_type": "code",
   "execution_count": null,
   "metadata": {
    "collapsed": true
   },
   "outputs": [],
   "source": []
  }
 ],
 "metadata": {
  "kernelspec": {
   "display_name": "Python 3",
   "language": "python",
   "name": "python3"
  },
  "language_info": {
   "codemirror_mode": {
    "name": "ipython",
    "version": 3
   },
   "file_extension": ".py",
   "mimetype": "text/x-python",
   "name": "python",
   "nbconvert_exporter": "python",
   "pygments_lexer": "ipython3",
   "version": "3.6.1"
  }
 },
 "nbformat": 4,
 "nbformat_minor": 2
}
