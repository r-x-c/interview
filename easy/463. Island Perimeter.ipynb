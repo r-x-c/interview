{
 "cells": [
  {
   "cell_type": "code",
   "execution_count": 46,
   "metadata": {
    "collapsed": true
   },
   "outputs": [],
   "source": [
    "class Solution(object):\n",
    "    def islandPerimeter(self, grid):\n",
    "        \"\"\"\n",
    "        :type grid: List[List[int]]\n",
    "        :rtype: int\n",
    "        \"\"\"\n",
    "        totalP = 0\n",
    "        for y, row in enumerate(grid):\n",
    "            for x, val in enumerate(row):\n",
    "                if val == 1:\n",
    "                    totalP += 4\n",
    "                    # above\n",
    "                    if y >= 1 and grid[y-1][x] == 1:\n",
    "                        totalP -= 2\n",
    "                    # behind\n",
    "                    if x >= 1 and grid[y][x-1] == 1:\n",
    "                        totalP -=2                      \n",
    "        return totalP\n",
    "        "
   ]
  },
  {
   "cell_type": "code",
   "execution_count": 47,
   "metadata": {},
   "outputs": [
    {
     "data": {
      "text/plain": [
       "16"
      ]
     },
     "execution_count": 47,
     "metadata": {},
     "output_type": "execute_result"
    }
   ],
   "source": [
    "grid = [[0,1,0,0],[1,1,1,0],[0,1,0,0],[1,1,0,0]]\n",
    "sol = Solution()\n",
    "sol.islandPerimeter(grid)"
   ]
  },
  {
   "cell_type": "code",
   "execution_count": null,
   "metadata": {
    "collapsed": true
   },
   "outputs": [],
   "source": [
    "class Solution(object):\n",
    "    def islandPerimeter(self, grid):\n",
    "        \"\"\"\n",
    "        :type grid: List[List[int]]\n",
    "        :rtype: int\n",
    "        \"\"\"\n",
    "        perim = 0\n",
    "        for i in range(len(grid)):\n",
    "            for j in range(len(grid[0])):\n",
    "                if grid[i][j] == 1:\n",
    "                    perim += 4\n",
    "                    if (i>=1) and grid[i-1][j] == 1:\n",
    "                        perim -= 2\n",
    "                    if (j>=1) and grid[i][j-1] == 1:\n",
    "                        perim -= 2\n",
    "        return perim"
   ]
  },
  {
   "cell_type": "code",
   "execution_count": null,
   "metadata": {
    "collapsed": true
   },
   "outputs": [],
   "source": [
    "# TIL: use the fucking \n",
    "for i in range(len(grid)):\n",
    "    for j in range(len(grid[0])):\n",
    "        if grid[i][j] == 1:"
   ]
  }
 ],
 "metadata": {
  "kernelspec": {
   "display_name": "Python 3",
   "language": "python",
   "name": "python3"
  },
  "language_info": {
   "codemirror_mode": {
    "name": "ipython",
    "version": 3
   },
   "file_extension": ".py",
   "mimetype": "text/x-python",
   "name": "python",
   "nbconvert_exporter": "python",
   "pygments_lexer": "ipython3",
   "version": "3.6.1"
  }
 },
 "nbformat": 4,
 "nbformat_minor": 2
}
