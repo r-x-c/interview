{
 "cells": [
  {
   "cell_type": "code",
   "execution_count": 10,
   "metadata": {
    "collapsed": true
   },
   "outputs": [],
   "source": [
    "class TreeNode(object):\n",
    "    def __init__(self, x):\n",
    "        self.val = x\n",
    "        self.left = None\n",
    "        self.right = None"
   ]
  },
  {
   "cell_type": "code",
   "execution_count": 11,
   "metadata": {
    "collapsed": true
   },
   "outputs": [],
   "source": [
    "def printInOrder(node):\n",
    "    if node == None:\n",
    "        return\n",
    "    #left\n",
    "    printInOrder(node.left)\n",
    "    #center\n",
    "    print(node.val)\n",
    "    #right\n",
    "    printInOrder(node.right)"
   ]
  },
  {
   "cell_type": "code",
   "execution_count": 12,
   "metadata": {
    "collapsed": true
   },
   "outputs": [],
   "source": [
    "t1 = TreeNode(1)\n",
    "a = TreeNode(3)\n",
    "b = TreeNode(2)\n",
    "t1.left = a\n",
    "t1.right = b\n",
    "c = TreeNode(5)\n",
    "a.left = c\n",
    "\n",
    "t2 = TreeNode(2)\n",
    "x = TreeNode(1)\n",
    "y = TreeNode(3)\n",
    "t2.left = x\n",
    "t2.right = y\n",
    "z = TreeNode(4)\n",
    "x.right = z\n",
    "q = TreeNode(7)\n",
    "y.right = q\n",
    "\n",
    "tS = TreeNode(3)\n",
    "s1 = TreeNode(4)\n",
    "s2 = TreeNode(5)\n",
    "tS.left = s1\n",
    "tS.right = s2\n",
    "s3 = TreeNode(5)\n",
    "s4 = TreeNode(4)\n",
    "s1.left = s3\n",
    "s1.right = s4\n",
    "s5 = TreeNode(7)\n",
    "s2.right = s5"
   ]
  },
  {
   "cell_type": "code",
   "execution_count": 20,
   "metadata": {
    "collapsed": true
   },
   "outputs": [],
   "source": [
    "class Solution(object):\n",
    "    def maxDepth(self, root):\n",
    "        \"\"\"\n",
    "        :type root: TreeNode\n",
    "        :rtype: int\n",
    "        \"\"\"\n",
    "        return self.depthHelper(root, 0)\n",
    "    def depthHelper(self, root, depth):\n",
    "        if root is None:\n",
    "            return depth\n",
    "        return max(self.depthHelper(root.left, depth+1),\n",
    "                  self.depthHelper(root.right, depth+1))"
   ]
  },
  {
   "cell_type": "code",
   "execution_count": 21,
   "metadata": {},
   "outputs": [
    {
     "name": "stdout",
     "output_type": "stream",
     "text": [
      "3\n",
      "3\n"
     ]
    }
   ],
   "source": [
    "sol = Solution()\n",
    "print(sol.maxDepth(t1))\n",
    "print(sol.maxDepth(t2))"
   ]
  },
  {
   "cell_type": "code",
   "execution_count": 19,
   "metadata": {},
   "outputs": [
    {
     "name": "stdout",
     "output_type": "stream",
     "text": [
      "5\n",
      "3\n",
      "1\n",
      "2\n"
     ]
    }
   ],
   "source": [
    "printInOrder(t1)\n"
   ]
  },
  {
   "cell_type": "code",
   "execution_count": null,
   "metadata": {
    "collapsed": true
   },
   "outputs": [],
   "source": []
  },
  {
   "cell_type": "code",
   "execution_count": null,
   "metadata": {
    "collapsed": true
   },
   "outputs": [],
   "source": []
  }
 ],
 "metadata": {
  "kernelspec": {
   "display_name": "Python 3",
   "language": "python",
   "name": "python3"
  },
  "language_info": {
   "codemirror_mode": {
    "name": "ipython",
    "version": 3
   },
   "file_extension": ".py",
   "mimetype": "text/x-python",
   "name": "python",
   "nbconvert_exporter": "python",
   "pygments_lexer": "ipython3",
   "version": "3.6.1"
  }
 },
 "nbformat": 4,
 "nbformat_minor": 2
}
