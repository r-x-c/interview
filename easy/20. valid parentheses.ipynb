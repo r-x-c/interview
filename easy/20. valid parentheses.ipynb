{
 "cells": [
  {
   "cell_type": "code",
   "execution_count": 12,
   "metadata": {},
   "outputs": [
    {
     "name": "stdout",
     "output_type": "stream",
     "text": [
      "()[]{}\n",
      "0\n",
      "\n",
      ")[\n",
      "---\n",
      "(\n",
      ")\n",
      "[\n",
      "]\n",
      "{\n",
      "}\n"
     ]
    }
   ],
   "source": [
    "s = \"()[]{}\"\n",
    "\n",
    "print(s)\n",
    "# print(s[0])\n",
    "# print(s[0:])\n",
    "print(s[0+1:].index(')'))\n",
    "\n",
    "\n",
    "print(s[0+1:s[0+1:].index(')')+1])\n",
    "print(s[1:3])\n",
    "\n",
    "print(\"---\")\n",
    "for idx, char in enumerate(s):\n",
    "    print(char)"
   ]
  },
  {
   "cell_type": "code",
   "execution_count": 36,
   "metadata": {},
   "outputs": [
    {
     "name": "stdout",
     "output_type": "stream",
     "text": [
      "0\n",
      "1\n",
      "2\n",
      "3\n",
      "4\n",
      "5\n",
      "True\n"
     ]
    }
   ],
   "source": [
    "from itertools import islice\n",
    "\n",
    "chars = iter(range(len(s)))\n",
    "s = \"()[]{}\"\n",
    "\n",
    "def getClosingPair(char):\n",
    "    if char == '(':\n",
    "        return ')'\n",
    "    elif char == '[':\n",
    "        return ']'\n",
    "    elif char == '{':\n",
    "        return '}'\n",
    "    else:\n",
    "        # value will not be found\n",
    "        return '0'\n",
    "\n",
    "def func():\n",
    "    for val in chars:\n",
    "        target = getClosingPair(s[val])\n",
    "        start = val\n",
    "        try:\n",
    "            \n",
    "            end = val + s[val:].index(s[start])\n",
    "            print(end)\n",
    "        except:\n",
    "            print(\"foo\")\n",
    "            return False\n",
    "#         print(s[start])\n",
    "        end = s[val:].index(s[start])\n",
    "    #     print(start, end)\n",
    "    #     next(islice(chars, 3, 3), None) \n",
    "    \n",
    "    return True\n",
    "print(func())\n",
    "\n"
   ]
  },
  {
   "cell_type": "code",
   "execution_count": null,
   "metadata": {
    "collapsed": true
   },
   "outputs": [],
   "source": [
    "# if s[x] s[x+1] form a pair, cut it out of the string\n",
    "#   return func(s[2:])\n",
    "# return func(s[x] + func(s[x+1:]))"
   ]
  },
  {
   "cell_type": "code",
   "execution_count": 4,
   "metadata": {
    "collapsed": true
   },
   "outputs": [],
   "source": [
    "def isPair(str):\n",
    "    return str == \"()\" or str == \"{}\" or str == \"[]\"\n",
    "\n",
    "\n",
    "def validHelper(str):\n",
    "    if len(str) < 2:\n",
    "        return False\n",
    "    if len(str) == 2:\n",
    "        return pairChecker(str)\n",
    "    return validHelper()"
   ]
  },
  {
   "cell_type": "code",
   "execution_count": 44,
   "metadata": {},
   "outputs": [
    {
     "data": {
      "text/plain": [
       "True"
      ]
     },
     "execution_count": 44,
     "metadata": {},
     "output_type": "execute_result"
    }
   ],
   "source": [
    "pairChecker('[]')"
   ]
  },
  {
   "cell_type": "code",
   "execution_count": null,
   "metadata": {
    "collapsed": true
   },
   "outputs": [],
   "source": [
    "s = \"()[]{}\"\n",
    "from itertools import islice\n",
    "\n",
    "chars = iter(range(len(s)))\n",
    "\n",
    "radius = 1\n",
    "while len(s) > 0:\n",
    "    found = False\n",
    "    for \n",
    "    \n",
    "    # cut out pair\n",
    "    s = "
   ]
  },
  {
   "cell_type": "code",
   "execution_count": 7,
   "metadata": {},
   "outputs": [
    {
     "name": "stdout",
     "output_type": "stream",
     "text": [
      "<range_iterator object at 0x111c7ab70>\n",
      "hi\n",
      "0\n",
      "1\n",
      "hi\n",
      "2\n",
      "3\n",
      "hi\n",
      "4\n"
     ]
    }
   ],
   "source": [
    "\n",
    "\n",
    "# for idx in range(len(s) - 1):\n",
    "#     if isPair(s[idx] + s[idx+1]):\n",
    "        \n",
    "#         print(\"hi\")\n",
    "#     print(idx)"
   ]
  },
  {
   "cell_type": "code",
   "execution_count": null,
   "metadata": {
    "collapsed": true
   },
   "outputs": [],
   "source": [
    "len(s)"
   ]
  },
  {
   "cell_type": "code",
   "execution_count": 124,
   "metadata": {
    "collapsed": true
   },
   "outputs": [],
   "source": [
    "# idx = 0\n",
    "idx = 0\n",
    "\n",
    "# [{[]}]   , 2\n",
    "# [{}] , 1\n",
    "# [] , 0\n",
    "# -1\n",
    "\n",
    "def isPair(str):\n",
    "    return str == \"()\" or str == \"{}\" or str == \"[]\"\n",
    "\n",
    "def cutFromCenter(s, idx):\n",
    "    while len(s) > 0 and (idx + 1) < len(s) and isPair(s[idx] + s[idx+1]):\n",
    "        s = s[:idx]+s[idx+2:]\n",
    "        idx -= 1\n",
    "    return s\n"
   ]
  },
  {
   "cell_type": "code",
   "execution_count": 29,
   "metadata": {},
   "outputs": [
    {
     "data": {
      "text/plain": [
       "'(){}'"
      ]
     },
     "execution_count": 29,
     "metadata": {},
     "output_type": "execute_result"
    }
   ],
   "source": [
    "s[:2]+s[2+2:]"
   ]
  },
  {
   "cell_type": "code",
   "execution_count": 35,
   "metadata": {},
   "outputs": [
    {
     "data": {
      "text/plain": [
       "''"
      ]
     },
     "execution_count": 35,
     "metadata": {},
     "output_type": "execute_result"
    }
   ],
   "source": [
    "cutFromCenter(\"[{[]}]\", 2)"
   ]
  },
  {
   "cell_type": "code",
   "execution_count": 38,
   "metadata": {},
   "outputs": [
    {
     "data": {
      "text/plain": [
       "'{[][]}'"
      ]
     },
     "execution_count": 38,
     "metadata": {},
     "output_type": "execute_result"
    }
   ],
   "source": [
    "cutFromCenter(\"{[][][]}\", 1)"
   ]
  },
  {
   "cell_type": "code",
   "execution_count": 75,
   "metadata": {},
   "outputs": [
    {
     "name": "stdout",
     "output_type": "stream",
     "text": [
      "<range_iterator object at 0x111c7ab70>\n"
     ]
    }
   ],
   "source": [
    "from itertools import islice\n",
    "\n",
    "s = \"()[]{}\"\n",
    "print(characters)\n",
    "def calc(s):\n",
    "    while len(s) > 0:\n",
    "        found = False\n",
    "        chars = iter(range(len(s) - 1))\n",
    "        for idx in chars:\n",
    "            if isPair(s[idx] + s[idx+1]):\n",
    "                found = True\n",
    "                s = cutFromCenter(s, idx)\n",
    "                break\n",
    "        if not found:\n",
    "            return False\n",
    "    return True"
   ]
  },
  {
   "cell_type": "code",
   "execution_count": 76,
   "metadata": {},
   "outputs": [
    {
     "data": {
      "text/plain": [
       "True"
      ]
     },
     "execution_count": 76,
     "metadata": {},
     "output_type": "execute_result"
    }
   ],
   "source": [
    "calc(\"()[]{}\")"
   ]
  },
  {
   "cell_type": "code",
   "execution_count": 77,
   "metadata": {},
   "outputs": [
    {
     "data": {
      "text/plain": [
       "True"
      ]
     },
     "execution_count": 77,
     "metadata": {},
     "output_type": "execute_result"
    }
   ],
   "source": [
    "calc(\"{{{}}}\")"
   ]
  },
  {
   "cell_type": "code",
   "execution_count": 78,
   "metadata": {},
   "outputs": [
    {
     "data": {
      "text/plain": [
       "False"
      ]
     },
     "execution_count": 78,
     "metadata": {},
     "output_type": "execute_result"
    }
   ],
   "source": [
    "calc(\"[';'']\")"
   ]
  },
  {
   "cell_type": "code",
   "execution_count": 86,
   "metadata": {},
   "outputs": [
    {
     "data": {
      "text/plain": [
       "0"
      ]
     },
     "execution_count": 86,
     "metadata": {},
     "output_type": "execute_result"
    }
   ],
   "source": [
    "s = \"foobar\"\n",
    "(len(s) % 2) != 0\n",
    "len(s) % 2"
   ]
  },
  {
   "cell_type": "code",
   "execution_count": 127,
   "metadata": {},
   "outputs": [
    {
     "name": "stdout",
     "output_type": "stream",
     "text": [
      "S:  }}(]}}){)(])](}{{}[] 16\n",
      "S:  }}(]}}){)(])](}{[] 16\n"
     ]
    },
    {
     "data": {
      "text/plain": [
       "False"
      ]
     },
     "execution_count": 127,
     "metadata": {},
     "output_type": "execute_result"
    }
   ],
   "source": [
    "calc(\"}}(]}}){)(])](}{{}[]\")"
   ]
  },
  {
   "cell_type": "code",
   "execution_count": 98,
   "metadata": {
    "collapsed": true
   },
   "outputs": [],
   "source": [
    "foo = \"}}(]}}){)(])](}{[]\""
   ]
  },
  {
   "cell_type": "code",
   "execution_count": 100,
   "metadata": {},
   "outputs": [
    {
     "data": {
      "text/plain": [
       "''"
      ]
     },
     "execution_count": 100,
     "metadata": {},
     "output_type": "execute_result"
    }
   ],
   "source": [
    "foo[16]\n",
    "foo[17]\n",
    "len(foo)\n",
    "foo[16+2:]"
   ]
  },
  {
   "cell_type": "code",
   "execution_count": 126,
   "metadata": {},
   "outputs": [
    {
     "name": "stdout",
     "output_type": "stream",
     "text": [
      "}}(]}}){)(])](}{[]\n",
      "}}(]}}){)(])](}{ 15\n",
      "16\n",
      "False\n"
     ]
    },
    {
     "ename": "IndexError",
     "evalue": "string index out of range",
     "output_type": "error",
     "traceback": [
      "\u001b[0;31m---------------------------------------------------------------------------\u001b[0m",
      "\u001b[0;31mIndexError\u001b[0m                                Traceback (most recent call last)",
      "\u001b[0;32m<ipython-input-126-61e290ba3e19>\u001b[0m in \u001b[0;36m<module>\u001b[0;34m()\u001b[0m\n\u001b[1;32m      6\u001b[0m \u001b[0mprint\u001b[0m\u001b[0;34m(\u001b[0m\u001b[0mlen\u001b[0m\u001b[0;34m(\u001b[0m\u001b[0mbar\u001b[0m\u001b[0;34m)\u001b[0m\u001b[0;34m)\u001b[0m\u001b[0;34m\u001b[0m\u001b[0m\n\u001b[1;32m      7\u001b[0m \u001b[0mprint\u001b[0m\u001b[0;34m(\u001b[0m\u001b[0;34m(\u001b[0m\u001b[0midx\u001b[0m \u001b[0;34m+\u001b[0m\u001b[0;36m1\u001b[0m\u001b[0;34m)\u001b[0m \u001b[0;34m<\u001b[0m \u001b[0mlen\u001b[0m\u001b[0;34m(\u001b[0m\u001b[0mbar\u001b[0m\u001b[0;34m)\u001b[0m\u001b[0;34m)\u001b[0m\u001b[0;34m\u001b[0m\u001b[0m\n\u001b[0;32m----> 8\u001b[0;31m \u001b[0mprint\u001b[0m\u001b[0;34m(\u001b[0m\u001b[0mbar\u001b[0m\u001b[0;34m[\u001b[0m\u001b[0midx\u001b[0m\u001b[0;34m]\u001b[0m \u001b[0;34m+\u001b[0m \u001b[0mbar\u001b[0m\u001b[0;34m[\u001b[0m\u001b[0midx\u001b[0m\u001b[0;34m+\u001b[0m\u001b[0;36m1\u001b[0m\u001b[0;34m]\u001b[0m\u001b[0;34m)\u001b[0m\u001b[0;34m\u001b[0m\u001b[0m\n\u001b[0m",
      "\u001b[0;31mIndexError\u001b[0m: string index out of range"
     ]
    }
   ],
   "source": [
    "idx = 16\n",
    "print(foo)\n",
    "bar = foo[:idx]+foo[idx+2:]\n",
    "idx -= 1\n",
    "print(bar, idx)\n",
    "print(len(bar))\n",
    "print((idx +1) < len(bar))\n",
    "print(bar[idx] + bar[idx+1])"
   ]
  },
  {
   "cell_type": "code",
   "execution_count": 1,
   "metadata": {
    "collapsed": true
   },
   "outputs": [],
   "source": [
    "# better solution \n",
    "class Solution(object):\n",
    "    maps = {\n",
    "        ')': '(',\n",
    "        '}': '{',\n",
    "        ']': '[',\n",
    "    }\n",
    "    def isValid(self, s):\n",
    "        \"\"\"\n",
    "        :type s: str\n",
    "        :rtype: bool\n",
    "        \"\"\"\n",
    "        q = []\n",
    "        for c in s:\n",
    "            # if opening bracket: (, {, [\n",
    "            if c not in self.maps:\n",
    "                q.append(c)\n",
    "            # closing bracket ), }, ]\n",
    "            else:\n",
    "                # closing bracket matches most recenty encountered opening bracket\n",
    "                if q and self.maps[c] == q[-1]:\n",
    "                    q.pop()\n",
    "                # encounter closing bracket w/o opening\n",
    "                else:\n",
    "                    return False\n",
    "        # return True if q is empty\n",
    "        return not q\n",
    "        \n"
   ]
  },
  {
   "cell_type": "code",
   "execution_count": null,
   "metadata": {
    "collapsed": true
   },
   "outputs": [],
   "source": [
    "# opening brackets are NOT in maps (, {, [\n"
   ]
  },
  {
   "cell_type": "code",
   "execution_count": 19,
   "metadata": {},
   "outputs": [
    {
     "data": {
      "text/plain": [
       "False"
      ]
     },
     "execution_count": 19,
     "metadata": {},
     "output_type": "execute_result"
    }
   ],
   "source": [
    "sol = Solution()\n",
    "'(' in sol.maps\n",
    "# sol.isValid(\"Foo\")"
   ]
  },
  {
   "cell_type": "code",
   "execution_count": 12,
   "metadata": {},
   "outputs": [
    {
     "name": "stdout",
     "output_type": "stream",
     "text": [
      "bye\n",
      "['yo']\n",
      "yo\n",
      "hi\n"
     ]
    }
   ],
   "source": [
    "f = []\n",
    "if f:\n",
    "    print(\"hi\")\n",
    "else:\n",
    "    print(\"bye\")\n",
    "f.append(\"yo\")\n",
    "if f:\n",
    "    print(f)\n",
    "    print(f[-1])\n",
    "    print(\"hi\")\n"
   ]
  },
  {
   "cell_type": "code",
   "execution_count": 21,
   "metadata": {},
   "outputs": [
    {
     "name": "stdout",
     "output_type": "stream",
     "text": [
      "3\n",
      "5\n",
      "[1, 2, 3, 5]\n",
      "[1, 2, 3]\n",
      "[1, 2, 3]\n",
      "[1, 2, 3, 6]\n"
     ]
    }
   ],
   "source": [
    "foo = [1, 2, 3]\n",
    "print(foo[-1])\n",
    "foo.append(5)\n",
    "print(foo[-1])\n",
    "print(foo)\n",
    "foo.pop()\n",
    "print(foo)\n",
    "print(foo)\n",
    "foo.append(6)\n",
    "print(foo)\n"
   ]
  },
  {
   "cell_type": "code",
   "execution_count": 14,
   "metadata": {},
   "outputs": [
    {
     "data": {
      "text/plain": [
       "2"
      ]
     },
     "execution_count": 14,
     "metadata": {},
     "output_type": "execute_result"
    }
   ],
   "source": [
    "foo[-2]"
   ]
  },
  {
   "cell_type": "code",
   "execution_count": null,
   "metadata": {
    "collapsed": true
   },
   "outputs": [],
   "source": []
  }
 ],
 "metadata": {
  "kernelspec": {
   "display_name": "Python 3",
   "language": "python",
   "name": "python3"
  },
  "language_info": {
   "codemirror_mode": {
    "name": "ipython",
    "version": 3
   },
   "file_extension": ".py",
   "mimetype": "text/x-python",
   "name": "python",
   "nbconvert_exporter": "python",
   "pygments_lexer": "ipython3",
   "version": "3.6.1"
  }
 },
 "nbformat": 4,
 "nbformat_minor": 2
}
