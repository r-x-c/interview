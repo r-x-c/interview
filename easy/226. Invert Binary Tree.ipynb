{
 "cells": [
  {
   "cell_type": "code",
   "execution_count": 6,
   "metadata": {
    "collapsed": true
   },
   "outputs": [],
   "source": [
    "class TreeNode(object):\n",
    "    def __init__(self, x):\n",
    "        self.val = x\n",
    "        self.left = None\n",
    "        self.right = None"
   ]
  },
  {
   "cell_type": "code",
   "execution_count": 7,
   "metadata": {
    "collapsed": true
   },
   "outputs": [],
   "source": [
    "def printInOrder(node):\n",
    "    if node == None:\n",
    "        return\n",
    "    #left\n",
    "    printInOrder(node.left)\n",
    "    #center\n",
    "    print(node.val)\n",
    "    #right\n",
    "    printInOrder(node.right)"
   ]
  },
  {
   "cell_type": "code",
   "execution_count": 8,
   "metadata": {
    "collapsed": true
   },
   "outputs": [],
   "source": [
    "def treeEqual(t1, t2):\n",
    "    if t1 is None and t2 is None:\n",
    "        return True\n",
    "    if t1 is None or t2 is None:\n",
    "        return False\n",
    "    if t1.val != t2.val:\n",
    "        return False\n",
    "    return treeEqual(t1.left, t2.left) and treeEqual(t1.right, t2.right)"
   ]
  },
  {
   "cell_type": "code",
   "execution_count": 9,
   "metadata": {
    "collapsed": true
   },
   "outputs": [],
   "source": [
    "t1 = TreeNode(1)\n",
    "a = TreeNode(3)\n",
    "b = TreeNode(2)\n",
    "t1.left = a\n",
    "t1.right = b\n",
    "c = TreeNode(5)\n",
    "a.left = c\n",
    "\n",
    "t2 = TreeNode(2)\n",
    "x = TreeNode(1)\n",
    "y = TreeNode(3)\n",
    "t2.left = x\n",
    "t2.right = y\n",
    "z = TreeNode(4)\n",
    "x.right = z\n",
    "q = TreeNode(7)\n",
    "y.right = q\n",
    "\n",
    "tS = TreeNode(3)\n",
    "s1 = TreeNode(4)\n",
    "s2 = TreeNode(5)\n",
    "tS.left = s1\n",
    "tS.right = s2\n",
    "s3 = TreeNode(5)\n",
    "s4 = TreeNode(4)\n",
    "s1.left = s3\n",
    "s1.right = s4\n",
    "s5 = TreeNode(7)\n",
    "s2.right = s5"
   ]
  },
  {
   "cell_type": "code",
   "execution_count": 20,
   "metadata": {
    "collapsed": true
   },
   "outputs": [],
   "source": [
    "# Definition for a binary tree node.\n",
    "# class TreeNode(object):\n",
    "#     def __init__(self, x):\n",
    "#         self.val = x\n",
    "#         self.left = None\n",
    "#         self.right = None\n",
    "\n",
    "class Solution(object):\n",
    "    def invertTree(self, root):\n",
    "        \"\"\"\n",
    "        :type root: TreeNode\n",
    "        :rtype: TreeNode\n",
    "        \"\"\"\n",
    "        if root is None:\n",
    "            return\n",
    "        return self.invertHelper(root, root.left, root.right)\n",
    "        \n",
    "    def invertHelper(self, node, nodeLeft, nodeRight):\n",
    "        if node is None:\n",
    "            return\n",
    "        node.left = nodeRight\n",
    "        node.right = nodeLeft\n",
    "        if node.left:\n",
    "            self.invertHelper(node.left, node.left.left, node.left.right)\n",
    "        if node.right:\n",
    "            self.invertHelper(node.right, node.right.left, node.right.right)\n",
    "        return node"
   ]
  },
  {
   "cell_type": "code",
   "execution_count": 21,
   "metadata": {},
   "outputs": [
    {
     "name": "stdout",
     "output_type": "stream",
     "text": [
      "<__main__.TreeNode object at 0x10c5f0630>\n",
      "2\n",
      "1\n",
      "3\n",
      "5\n"
     ]
    }
   ],
   "source": [
    "sol = Solution()\n",
    "ans = sol.invertTree(t1)\n",
    "print(ans)\n",
    "printInOrder(ans)"
   ]
  },
  {
   "cell_type": "code",
   "execution_count": null,
   "metadata": {
    "collapsed": true
   },
   "outputs": [],
   "source": [
    "# TIL: better soluition / recursion structure\n",
    "class Solution(object):\n",
    "    def invertTree(self, root):\n",
    "        \"\"\"\n",
    "        :type root: TreeNode\n",
    "        :rtype: TreeNode\n",
    "        \"\"\"\n",
    "        if root is None:\n",
    "            return root\n",
    "        else:\n",
    "            left = self.invertTree(root.right)\n",
    "            right = self.invertTree(root.left)\n",
    "            root.right = right\n",
    "            root.left = left\n",
    "            return root\n"
   ]
  }
 ],
 "metadata": {
  "kernelspec": {
   "display_name": "Python 3",
   "language": "python",
   "name": "python3"
  },
  "language_info": {
   "codemirror_mode": {
    "name": "ipython",
    "version": 3
   },
   "file_extension": ".py",
   "mimetype": "text/x-python",
   "name": "python",
   "nbconvert_exporter": "python",
   "pygments_lexer": "ipython3",
   "version": "3.6.1"
  }
 },
 "nbformat": 4,
 "nbformat_minor": 2
}
