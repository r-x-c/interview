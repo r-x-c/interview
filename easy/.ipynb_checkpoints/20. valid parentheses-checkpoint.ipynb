{
 "cells": [
  {
   "cell_type": "code",
   "execution_count": 12,
   "metadata": {},
   "outputs": [
    {
     "name": "stdout",
     "output_type": "stream",
     "text": [
      "()[]{}\n",
      "0\n",
      "\n",
      ")[\n",
      "---\n",
      "(\n",
      ")\n",
      "[\n",
      "]\n",
      "{\n",
      "}\n"
     ]
    }
   ],
   "source": [
    "s = \"()[]{}\"\n",
    "\n",
    "print(s)\n",
    "# print(s[0])\n",
    "# print(s[0:])\n",
    "print(s[0+1:].index(')'))\n",
    "\n",
    "\n",
    "print(s[0+1:s[0+1:].index(')')+1])\n",
    "print(s[1:3])\n",
    "\n",
    "print(\"---\")\n",
    "for idx, char in enumerate(s):\n",
    "    print(char)"
   ]
  },
  {
   "cell_type": "code",
   "execution_count": 26,
   "metadata": {},
   "outputs": [
    {
     "name": "stdout",
     "output_type": "stream",
     "text": [
      ")\n",
      "0\n",
      "]\n",
      "0\n",
      "}\n",
      "0\n"
     ]
    }
   ],
   "source": [
    "from itertools import islice\n",
    "\n",
    "chars = iter(range(len(s)))\n",
    "s = \"()[]{}\"\n",
    "\n",
    "def getClosingPair(char):\n",
    "    if char == '(':\n",
    "        return ')'\n",
    "    elif char == '[':\n",
    "        return ']'\n",
    "    elif char == '{':\n",
    "        return '}'\n",
    "    else:\n",
    "        # value will not be found\n",
    "        return '0'\n",
    "\n",
    "for val in chars:\n",
    "    target = getClosingPair(s[val])\n",
    "    print(target)\n",
    "#     print(val)\n",
    "    start = val\n",
    "#     print(s[start])\n",
    "    end = s[val:].index(s[start])\n",
    "#     print(start, end)\n",
    "#     next(islice(chars, 3, 3), None) \n"
   ]
  },
  {
   "cell_type": "code",
   "execution_count": null,
   "metadata": {
    "collapsed": true
   },
   "outputs": [],
   "source": []
  }
 ],
 "metadata": {
  "kernelspec": {
   "display_name": "Python 3",
   "language": "python",
   "name": "python3"
  },
  "language_info": {
   "codemirror_mode": {
    "name": "ipython",
    "version": 3
   },
   "file_extension": ".py",
   "mimetype": "text/x-python",
   "name": "python",
   "nbconvert_exporter": "python",
   "pygments_lexer": "ipython3",
   "version": "3.6.1"
  }
 },
 "nbformat": 4,
 "nbformat_minor": 2
}
